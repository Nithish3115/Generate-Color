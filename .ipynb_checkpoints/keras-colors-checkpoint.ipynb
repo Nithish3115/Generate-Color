{
 "cells": [
  {
   "cell_type": "code",
   "execution_count": null,
   "metadata": {},
   "outputs": [
    {
     "ename": "",
     "evalue": "",
     "output_type": "error",
     "traceback": [
      "\u001b[1;31mThe kernel failed to start due to the missing module 'prompt_toolkit.formatted_text'. Consider installing this module.\n",
      "\u001b[1;31mClick <a href='https://aka.ms/kernelFailuresMissingModule'>here</a> for more info."
     ]
    }
   ],
   "source": [
    "import tensorflow as tf\n",
    "from tensorflow.python import keras\n",
    "from tensorflow.python.keras import preprocessing\n",
    "from tensorflow.python.keras.preprocessing.text import Tokenizer\n",
    "from tensorflow.python.keras.models import Sequential\n",
    "from tensorflow.python.keras.layers import Dense, Dropout, LSTM, Reshape\n",
    "\n",
    "import numpy as np\n",
    "import pandas\n",
    "\n",
    "np.random.seed(10)\n",
    "print (tf.__version__)"
   ]
  },
  {
   "cell_type": "code",
   "execution_count": null,
   "metadata": {},
   "outputs": [
    {
     "name": "stdout",
     "output_type": "stream",
     "text": [
      "Defaulting to user installation because normal site-packages is not writeable\n",
      "Collecting tensorflow\n",
      "  Downloading tensorflow-2.18.0-cp310-cp310-manylinux_2_17_x86_64.manylinux2014_x86_64.whl (615.3 MB)\n",
      "\u001b[2K     \u001b[91m━━━\u001b[0m\u001b[91m╸\u001b[0m\u001b[90m━━━━━━━━━━━━━━━━━━━━━━━━━━━━━━━━━━━━\u001b[0m \u001b[32m57.5/615.3 MB\u001b[0m \u001b[31m5.6 MB/s\u001b[0m eta \u001b[36m0:01:41\u001b[0m"
     ]
    }
   ],
   "source": [
    "# !pip install tensorflow"
   ]
  },
  {
   "cell_type": "code",
   "execution_count": null,
   "metadata": {
    "scrolled": true
   },
   "outputs": [
    {
     "ename": "",
     "evalue": "",
     "output_type": "error",
     "traceback": [
      "\u001b[1;31mThe kernel failed to start due to the missing module 'prompt_toolkit.formatted_text'. Consider installing this module.\n",
      "\u001b[1;31mClick <a href='https://aka.ms/kernelFailuresMissingModule'>here</a> for more info."
     ]
    }
   ],
   "source": [
    "data = pandas.read_csv('colors.csv')\n",
    "data.head()"
   ]
  },
  {
   "cell_type": "code",
   "execution_count": 3,
   "metadata": {},
   "outputs": [
    {
     "data": {
      "text/plain": [
       "14157"
      ]
     },
     "execution_count": 3,
     "metadata": {},
     "output_type": "execute_result"
    }
   ],
   "source": [
    "len(data)"
   ]
  },
  {
   "cell_type": "code",
   "execution_count": 4,
   "metadata": {},
   "outputs": [],
   "source": [
    "names = data[\"name\"]"
   ]
  },
  {
   "cell_type": "markdown",
   "metadata": {},
   "source": [
    "## Visualize the name string length distribution"
   ]
  },
  {
   "cell_type": "code",
   "execution_count": 5,
   "metadata": {},
   "outputs": [
    {
     "data": {
      "image/png": "[encoded data removed]",
      "text/plain": [
       "<matplotlib.figure.Figure at 0x1e8cb55a438>"
      ]
     },
     "metadata": {},
     "output_type": "display_data"
    }
   ],
   "source": [
    "h = sorted(names.str.len().as_matrix())\n",
    "import numpy as np\n",
    "import scipy.stats as stats\n",
    "import pylab as plt\n",
    "\n",
    "fit = stats.norm.pdf(h, np.mean(h), np.std(h))  #this is a fitting indeed\n",
    "plt.plot(h,fit,'-o')\n",
    "plt.hist(h,normed=True)      #use this to draw histogram of your data\n",
    "plt.xlabel('Chars')\n",
    "plt.ylabel('Probability density')\n",
    "plt.show()"
   ]
  },
  {
   "cell_type": "code",
   "execution_count": 6,
   "metadata": {},
   "outputs": [
    {
     "data": {
      "text/plain": [
       "30"
      ]
     },
     "execution_count": 6,
     "metadata": {},
     "output_type": "execute_result"
    }
   ],
   "source": [
    "np.array(h).max()"
   ]
  },
  {
   "cell_type": "markdown",
   "metadata": {},
   "source": [
    "## Tokenize, char level"
   ]
  },
  {
   "cell_type": "code",
   "execution_count": 7,
   "metadata": {},
   "outputs": [],
   "source": [
    "maxlen = 25\n",
    "t = Tokenizer(char_level=True)\n",
    "t.fit_on_texts(names)\n",
    "tokenized = t.texts_to_sequences(names)\n",
    "padded_names = preprocessing.sequence.pad_sequences(tokenized, maxlen=maxlen)"
   ]
  },
  {
   "cell_type": "markdown",
   "metadata": {},
   "source": [
    "## One-hot encoding"
   ]
  },
  {
   "cell_type": "code",
   "execution_count": 8,
   "metadata": {},
   "outputs": [
    {
     "name": "stderr",
     "output_type": "stream",
     "text": [
      "Using TensorFlow backend.\n"
     ]
    },
    {
     "data": {
      "text/plain": [
       "28"
      ]
     },
     "execution_count": 8,
     "metadata": {},
     "output_type": "execute_result"
    }
   ],
   "source": [
    "from keras.utils import np_utils\n",
    "one_hot_names = np_utils.to_categorical(padded_names)\n",
    "num_classes = one_hot_names.shape[-1]\n",
    "num_classes"
   ]
  },
  {
   "cell_type": "code",
   "execution_count": 9,
   "metadata": {},
   "outputs": [
    {
     "data": {
      "text/plain": [
       "(14157, 25, 28)"
      ]
     },
     "execution_count": 9,
     "metadata": {},
     "output_type": "execute_result"
    }
   ],
   "source": [
    "one_hot_names.shape"
   ]
  },
  {
   "cell_type": "code",
   "execution_count": 10,
   "metadata": {},
   "outputs": [
    {
     "data": {
      "text/plain": [
       "{' ': 4,\n",
       " 'a': 2,\n",
       " 'b': 18,\n",
       " 'c': 11,\n",
       " 'd': 13,\n",
       " 'e': 1,\n",
       " 'f': 22,\n",
       " 'g': 14,\n",
       " 'h': 16,\n",
       " 'i': 5,\n",
       " 'j': 26,\n",
       " 'k': 21,\n",
       " 'l': 7,\n",
       " 'm': 17,\n",
       " 'n': 6,\n",
       " 'o': 8,\n",
       " 'p': 15,\n",
       " 'q': 25,\n",
       " 'r': 3,\n",
       " 's': 10,\n",
       " 't': 9,\n",
       " 'u': 12,\n",
       " 'v': 23,\n",
       " 'w': 20,\n",
       " 'x': 27,\n",
       " 'y': 19,\n",
       " 'z': 24}"
      ]
     },
     "execution_count": 10,
     "metadata": {},
     "output_type": "execute_result"
    }
   ],
   "source": [
    "t.word_index"
   ]
  },
  {
   "cell_type": "code",
   "execution_count": 11,
   "metadata": {},
   "outputs": [],
   "source": [
    "# The RGB values are between 0 - 255\n",
    "# scale them to be between 0 - 1\n",
    "def norm(value):\n",
    "    return value / 255.0\n",
    "\n",
    "normalized_values = np.column_stack([norm(data[\"red\"]), norm(data[\"green\"]), norm(data[\"blue\"])])\n"
   ]
  },
  {
   "cell_type": "code",
   "execution_count": 12,
   "metadata": {},
   "outputs": [
    {
     "name": "stdout",
     "output_type": "stream",
     "text": [
      "_________________________________________________________________\n",
      "Layer (type)                 Output Shape              Param #   \n",
      "=================================================================\n",
      "lstm_1 (LSTM)                (None, 25, 256)           291840    \n",
      "_________________________________________________________________\n",
      "lstm_2 (LSTM)                (None, 128)               197120    \n",
      "_________________________________________________________________\n",
      "dense_1 (Dense)              (None, 128)               16512     \n",
      "_________________________________________________________________\n",
      "dense_2 (Dense)              (None, 3)                 387       \n",
      "=================================================================\n",
      "Total params: 505,859\n",
      "Trainable params: 505,859\n",
      "Non-trainable params: 0\n",
      "_________________________________________________________________\n"
     ]
    }
   ],
   "source": [
    "model = Sequential()\n",
    "model.add(LSTM(256, return_sequences=True, input_shape=(maxlen, num_classes)))\n",
    "model.add(LSTM(128))\n",
    "model.add(Dense(128, activation='relu'))\n",
    "model.add(Dense(3, activation='sigmoid'))\n",
    "model.compile(optimizer='adam', loss='mse', metrics=['acc'])\n",
    "model.summary()"
   ]
  },
  {
   "cell_type": "code",
   "execution_count": 32,
   "metadata": {},
   "outputs": [],
   "source": [
    "model.load_weights('model_1.h5')"
   ]
  },
  {
   "cell_type": "code",
   "execution_count": 73,
   "metadata": {
    "scrolled": true
   },
   "outputs": [
    {
     "name": "stdout",
     "output_type": "stream",
     "text": [
      "Train on 12741 samples, validate on 1416 samples\n",
      "Epoch 1/40\n",
      "12741/12741 [==============================] - 35s 3ms/step - loss: 0.0602 - acc: 0.6276 - val_loss: 0.0599 - val_acc: 0.6695\n",
      "Epoch 2/40\n",
      "12741/12741 [==============================] - 31s 2ms/step - loss: 0.0552 - acc: 0.6589 - val_loss: 0.0568 - val_acc: 0.6405\n",
      "Epoch 3/40\n",
      "12741/12741 [==============================] - 31s 2ms/step - loss: 0.0526 - acc: 0.6633 - val_loss: 0.0548 - val_acc: 0.6688\n",
      "Epoch 4/40\n",
      "12741/12741 [==============================] - 31s 2ms/step - loss: 0.0503 - acc: 0.6630 - val_loss: 0.0527 - val_acc: 0.6589\n",
      "Epoch 5/40\n",
      "12741/12741 [==============================] - 30s 2ms/step - loss: 0.0481 - acc: 0.6690 - val_loss: 0.0508 - val_acc: 0.6794\n",
      "Epoch 6/40\n",
      "12741/12741 [==============================] - 30s 2ms/step - loss: 0.0460 - acc: 0.6688 - val_loss: 0.0481 - val_acc: 0.6787\n",
      "Epoch 7/40\n",
      "12741/12741 [==============================] - 30s 2ms/step - loss: 0.0438 - acc: 0.6795 - val_loss: 0.0475 - val_acc: 0.6921\n",
      "Epoch 8/40\n",
      "12741/12741 [==============================] - 30s 2ms/step - loss: 0.0415 - acc: 0.6823 - val_loss: 0.0467 - val_acc: 0.6815\n",
      "Epoch 9/40\n",
      "12741/12741 [==============================] - 30s 2ms/step - loss: 0.0395 - acc: 0.6852 - val_loss: 0.0464 - val_acc: 0.6992\n",
      "Epoch 10/40\n",
      "12741/12741 [==============================] - 30s 2ms/step - loss: 0.0373 - acc: 0.6898 - val_loss: 0.0458 - val_acc: 0.6956\n",
      "Epoch 11/40\n",
      "12741/12741 [==============================] - 30s 2ms/step - loss: 0.0352 - acc: 0.6974 - val_loss: 0.0448 - val_acc: 0.6773\n",
      "Epoch 12/40\n",
      "12741/12741 [==============================] - 30s 2ms/step - loss: 0.0327 - acc: 0.7002 - val_loss: 0.0450 - val_acc: 0.6893\n",
      "Epoch 13/40\n",
      "12741/12741 [==============================] - 30s 2ms/step - loss: 0.0304 - acc: 0.7029 - val_loss: 0.0456 - val_acc: 0.6928\n",
      "Epoch 14/40\n",
      "12741/12741 [==============================] - 30s 2ms/step - loss: 0.0275 - acc: 0.7078 - val_loss: 0.0467 - val_acc: 0.6843\n",
      "Epoch 15/40\n",
      "12741/12741 [==============================] - 30s 2ms/step - loss: 0.0250 - acc: 0.7122 - val_loss: 0.0466 - val_acc: 0.6921\n",
      "Epoch 16/40\n",
      "12741/12741 [==============================] - 30s 2ms/step - loss: 0.0223 - acc: 0.7186 - val_loss: 0.0466 - val_acc: 0.6942\n",
      "Epoch 17/40\n",
      "12741/12741 [==============================] - 30s 2ms/step - loss: 0.0201 - acc: 0.7248 - val_loss: 0.0480 - val_acc: 0.7133\n",
      "Epoch 18/40\n",
      "12741/12741 [==============================] - 30s 2ms/step - loss: 0.0177 - acc: 0.7293 - val_loss: 0.0488 - val_acc: 0.7020\n",
      "Epoch 19/40\n",
      "12741/12741 [==============================] - 30s 2ms/step - loss: 0.0159 - acc: 0.7317 - val_loss: 0.0489 - val_acc: 0.6942\n",
      "Epoch 20/40\n",
      "12741/12741 [==============================] - 30s 2ms/step - loss: 0.0146 - acc: 0.7434 - val_loss: 0.0508 - val_acc: 0.6984\n",
      "Epoch 21/40\n",
      "12741/12741 [==============================] - 30s 2ms/step - loss: 0.0131 - acc: 0.7474 - val_loss: 0.0499 - val_acc: 0.6942\n",
      "Epoch 22/40\n",
      "12741/12741 [==============================] - 30s 2ms/step - loss: 0.0119 - acc: 0.7575 - val_loss: 0.0493 - val_acc: 0.6956\n",
      "Epoch 23/40\n",
      "12741/12741 [==============================] - 30s 2ms/step - loss: 0.0111 - acc: 0.7532 - val_loss: 0.0489 - val_acc: 0.6935\n",
      "Epoch 24/40\n",
      "12741/12741 [==============================] - 30s 2ms/step - loss: 0.0103 - acc: 0.7645 - val_loss: 0.0500 - val_acc: 0.6907\n",
      "Epoch 25/40\n",
      "12741/12741 [==============================] - 30s 2ms/step - loss: 0.0098 - acc: 0.7735 - val_loss: 0.0503 - val_acc: 0.7020\n",
      "Epoch 26/40\n",
      "12741/12741 [==============================] - 31s 2ms/step - loss: 0.0093 - acc: 0.7784 - val_loss: 0.0495 - val_acc: 0.7013\n",
      "Epoch 27/40\n",
      "12741/12741 [==============================] - 31s 2ms/step - loss: 0.0089 - acc: 0.7827 - val_loss: 0.0502 - val_acc: 0.6801\n",
      "Epoch 28/40\n",
      "12741/12741 [==============================] - 31s 2ms/step - loss: 0.0084 - acc: 0.7851 - val_loss: 0.0501 - val_acc: 0.7105\n",
      "Epoch 29/40\n",
      "12741/12741 [==============================] - 31s 2ms/step - loss: 0.0081 - acc: 0.7928 - val_loss: 0.0496 - val_acc: 0.6893\n",
      "Epoch 30/40\n",
      "12741/12741 [==============================] - 31s 2ms/step - loss: 0.0078 - acc: 0.7970 - val_loss: 0.0495 - val_acc: 0.6893\n",
      "Epoch 31/40\n",
      "12741/12741 [==============================] - 30s 2ms/step - loss: 0.0074 - acc: 0.8008 - val_loss: 0.0504 - val_acc: 0.7133\n",
      "Epoch 32/40\n",
      "12741/12741 [==============================] - 30s 2ms/step - loss: 0.0073 - acc: 0.8021 - val_loss: 0.0497 - val_acc: 0.6836\n",
      "Epoch 33/40\n",
      "12741/12741 [==============================] - 31s 2ms/step - loss: 0.0071 - acc: 0.8061 - val_loss: 0.0514 - val_acc: 0.6879\n",
      "Epoch 34/40\n",
      "12741/12741 [==============================] - 30s 2ms/step - loss: 0.0068 - acc: 0.8098 - val_loss: 0.0507 - val_acc: 0.6921\n",
      "Epoch 35/40\n",
      "12741/12741 [==============================] - 30s 2ms/step - loss: 0.0067 - acc: 0.8138 - val_loss: 0.0503 - val_acc: 0.6942\n",
      "Epoch 36/40\n",
      "12741/12741 [==============================] - 30s 2ms/step - loss: 0.0065 - acc: 0.8152 - val_loss: 0.0515 - val_acc: 0.6928\n",
      "Epoch 37/40\n",
      "12741/12741 [==============================] - 31s 2ms/step - loss: 0.0064 - acc: 0.8241 - val_loss: 0.0501 - val_acc: 0.6914\n",
      "Epoch 38/40\n",
      "12741/12741 [==============================] - 31s 2ms/step - loss: 0.0063 - acc: 0.8217 - val_loss: 0.0517 - val_acc: 0.6879\n",
      "Epoch 39/40\n",
      "12741/12741 [==============================] - 31s 2ms/step - loss: 0.0062 - acc: 0.8295 - val_loss: 0.0502 - val_acc: 0.6787\n",
      "Epoch 40/40\n",
      "12741/12741 [==============================] - 31s 2ms/step - loss: 0.0060 - acc: 0.8261 - val_loss: 0.0497 - val_acc: 0.7027\n"
     ]
    }
   ],
   "source": [
    "history = model.fit(one_hot_names, normalized_values,\n",
    "                    epochs=40,\n",
    "                    batch_size=32,\n",
    "                    validation_split=0.1)"
   ]
  },
  {
   "cell_type": "code",
   "execution_count": 23,
   "metadata": {},
   "outputs": [
    {
     "name": "stdout",
     "output_type": "stream",
     "text": [
      "Epoch 1/10\n",
      "14157/14157 [==============================] - 35s 2ms/step - loss: 0.0112 - acc: 0.8073\n",
      "Epoch 2/10\n",
      "14157/14157 [==============================] - 35s 2ms/step - loss: 0.0085 - acc: 0.8152\n",
      "Epoch 3/10\n",
      "14157/14157 [==============================] - 34s 2ms/step - loss: 0.0075 - acc: 0.8210\n",
      "Epoch 4/10\n",
      "14157/14157 [==============================] - 34s 2ms/step - loss: 0.0070 - acc: 0.8222\n",
      "Epoch 5/10\n",
      "14157/14157 [==============================] - 33s 2ms/step - loss: 0.0068 - acc: 0.8286\n",
      "Epoch 6/10\n",
      "14157/14157 [==============================] - 33s 2ms/step - loss: 0.0065 - acc: 0.8269\n",
      "Epoch 7/10\n",
      "14157/14157 [==============================] - 34s 2ms/step - loss: 0.0065 - acc: 0.8342\n",
      "Epoch 8/10\n",
      "14157/14157 [==============================] - 32s 2ms/step - loss: 0.0063 - acc: 0.8353\n",
      "Epoch 9/10\n",
      "14157/14157 [==============================] - 34s 2ms/step - loss: 0.0061 - acc: 0.8374\n",
      "Epoch 10/10\n",
      "14157/14157 [==============================] - 34s 2ms/step - loss: 0.0061 - acc: 0.8380\n"
     ]
    },
    {
     "data": {
      "text/plain": [
       "<tensorflow.python.keras._impl.keras.callbacks.History at 0x1e8ed4890b8>"
      ]
     },
     "execution_count": 23,
     "metadata": {},
     "output_type": "execute_result"
    }
   ],
   "source": [
    "# Optionally continue to train with all data, this will likely overfit the training data.\n",
    "model.fit(one_hot_names, normalized_values,\n",
    "                    epochs=10,\n",
    "                    batch_size=32)"
   ]
  },
  {
   "cell_type": "code",
   "execution_count": 24,
   "metadata": {},
   "outputs": [],
   "source": [
    "# Save the model parameters for later use.\n",
    "model.save_weights('model_1.h5')"
   ]
  },
  {
   "cell_type": "code",
   "execution_count": 74,
   "metadata": {},
   "outputs": [
    {
     "data": {
      "image/png": "[encoded data removed]",
      "text/plain": [
       "<matplotlib.figure.Figure at 0x1c2a139f0b8>"
      ]
     },
     "metadata": {},
     "output_type": "display_data"
    },
    {
     "data": {
      "image/png": "[encoded data removed]",
      "text/plain": [
       "<matplotlib.figure.Figure at 0x1c2a134ac88>"
      ]
     },
     "metadata": {},
     "output_type": "display_data"
    }
   ],
   "source": [
    "acc = history.history['acc']\n",
    "val_acc = history.history['val_acc']\n",
    "loss = history.history['loss']\n",
    "val_loss = history.history['val_loss']\n",
    "\n",
    "epochs = range(len(acc))\n",
    "\n",
    "plt.plot(epochs, acc, 'bo', label='Training acc')\n",
    "plt.plot(epochs, val_acc, 'b', label='Validation acc')\n",
    "plt.title('Training and validation accuracy')\n",
    "plt.legend()\n",
    "\n",
    "plt.figure()\n",
    "\n",
    "plt.plot(epochs, loss, 'bo', label='Training loss')\n",
    "plt.plot(epochs, val_loss, 'b', label='Validation loss')\n",
    "plt.title('Training and validation loss')\n",
    "plt.legend()\n",
    "\n",
    "plt.show()\n"
   ]
  },
  {
   "cell_type": "code",
   "execution_count": 14,
   "metadata": {},
   "outputs": [],
   "source": [
    "# Plot a color image.\n",
    "def plot_rgb(rgb):\n",
    "    data = [[rgb]]\n",
    "    plt.figure(figsize=(2,2))\n",
    "    plt.imshow(data, interpolation='nearest')\n",
    "    plt.show()"
   ]
  },
  {
   "cell_type": "code",
   "execution_count": 15,
   "metadata": {},
   "outputs": [],
   "source": [
    "def scale(n):\n",
    "    return int(n * 255) "
   ]
  },
  {
   "cell_type": "code",
   "execution_count": 16,
   "metadata": {},
   "outputs": [],
   "source": [
    "def predict(name):\n",
    "    name = name.lower()\n",
    "    tokenized = t.texts_to_sequences([name])\n",
    "    padded = preprocessing.sequence.pad_sequences(tokenized, maxlen=maxlen)\n",
    "    one_hot = np_utils.to_categorical(padded, num_classes=num_classes)\n",
    "    pred = model.predict(np.array(one_hot))[0]\n",
    "    r, g, b = scale(pred[0]), scale(pred[1]), scale(pred[2])\n",
    "    print(name + ',', 'R,G,B:', r,g,b)\n",
    "    plot_rgb(pred)"
   ]
  },
  {
   "cell_type": "code",
   "execution_count": 33,
   "metadata": {},
   "outputs": [
    {
     "name": "stdout",
     "output_type": "stream",
     "text": [
      "light blue, R,G,B: 184 234 242\n"
     ]
    },
    {
     "data": {
      "image/png": "[encoded data removed]",
      "text/plain": [
       "<matplotlib.figure.Figure at 0x1ea7cd06898>"
      ]
     },
     "metadata": {},
     "output_type": "display_data"
    },
    {
     "name": "stdout",
     "output_type": "stream",
     "text": [
      "blue, R,G,B: 9 30 203\n"
     ]
    },
    {
     "data": {
      "image/png": "[encoded data removed]",
      "text/plain": [
       "<matplotlib.figure.Figure at 0x1ea7fe169e8>"
      ]
     },
     "metadata": {},
     "output_type": "display_data"
    },
    {
     "name": "stdout",
     "output_type": "stream",
     "text": [
      "dark blue, R,G,B: 4 10 131\n"
     ]
    },
    {
     "data": {
      "image/png": "[encoded data removed]",
      "text/plain": [
       "<matplotlib.figure.Figure at 0x1ea7fe4ae48>"
      ]
     },
     "metadata": {},
     "output_type": "display_data"
    }
   ],
   "source": [
    "predict(\"light blue\")\n",
    "predict(\"blue\")\n",
    "predict(\"dark blue\")"
   ]
  },
  {
   "cell_type": "code",
   "execution_count": 34,
   "metadata": {},
   "outputs": [
    {
     "name": "stdout",
     "output_type": "stream",
     "text": [
      "black, R,G,B: 22 17 28\n"
     ]
    },
    {
     "data": {
      "image/png": "[encoded data removed]",
      "text/plain": [
       "<matplotlib.figure.Figure at 0x1ea7feacc18>"
      ]
     },
     "metadata": {},
     "output_type": "display_data"
    },
    {
     "name": "stdout",
     "output_type": "stream",
     "text": [
      "white, R,G,B: 241 241 231\n"
     ]
    },
    {
     "data": {
      "image/png": "[encoded data removed]",
      "text/plain": [
       "<matplotlib.figure.Figure at 0x1ea7fedf9e8>"
      ]
     },
     "metadata": {},
     "output_type": "display_data"
    }
   ],
   "source": [
    "predict(\"black\")\n",
    "predict(\"white\")"
   ]
  },
  {
   "cell_type": "code",
   "execution_count": 35,
   "metadata": {},
   "outputs": [
    {
     "name": "stdout",
     "output_type": "stream",
     "text": [
      "tensorflow orange, R,G,B: 227 106 51\n"
     ]
    },
    {
     "data": {
      "image/png": "[encoded data removed]",
      "text/plain": [
       "<matplotlib.figure.Figure at 0x1ea7ff082e8>"
      ]
     },
     "metadata": {},
     "output_type": "display_data"
    },
    {
     "name": "stdout",
     "output_type": "stream",
     "text": [
      "forest, R,G,B: 27 80 48\n"
     ]
    },
    {
     "data": {
      "image/png": "[encoded data removed]",
      "text/plain": [
       "<matplotlib.figure.Figure at 0x1ea7ff586d8>"
      ]
     },
     "metadata": {},
     "output_type": "display_data"
    },
    {
     "name": "stdout",
     "output_type": "stream",
     "text": [
      "evergreen, R,G,B: 24 65 42\n"
     ]
    },
    {
     "data": {
      "image/png": "[encoded data removed]",
      "text/plain": [
       "<matplotlib.figure.Figure at 0x1ea7ff6a4e0>"
      ]
     },
     "metadata": {},
     "output_type": "display_data"
    },
    {
     "name": "stdout",
     "output_type": "stream",
     "text": [
      "tangerine, R,G,B: 250 134 26\n"
     ]
    },
    {
     "data": {
      "image/png": "[encoded data removed]",
      "text/plain": [
       "<matplotlib.figure.Figure at 0x1ea7ffa7860>"
      ]
     },
     "metadata": {},
     "output_type": "display_data"
    }
   ],
   "source": [
    "predict(\"tensorflow orange\")\n",
    "predict(\"forest\")\n",
    "predict(\"evergreen\")\n",
    "predict(\"tangerine\")"
   ]
  },
  {
   "cell_type": "code",
   "execution_count": 36,
   "metadata": {},
   "outputs": [
    {
     "name": "stdout",
     "output_type": "stream",
     "text": [
      "princess ivory, R,G,B: 250 241 231\n"
     ]
    },
    {
     "data": {
      "image/png": "[encoded data removed]",
      "text/plain": [
       "<matplotlib.figure.Figure at 0x1ea7ffdd400>"
      ]
     },
     "metadata": {},
     "output_type": "display_data"
    }
   ],
   "source": [
    "predict(\"princess ivory\")"
   ]
  },
  {
   "cell_type": "code",
   "execution_count": 37,
   "metadata": {},
   "outputs": [
    {
     "name": "stdout",
     "output_type": "stream",
     "text": [
      "bull cream, R,G,B: 249 243 187\n"
     ]
    },
    {
     "data": {
      "image/png": "[encoded data removed]",
      "text/plain": [
       "<matplotlib.figure.Figure at 0x1ea7fde6518>"
      ]
     },
     "metadata": {},
     "output_type": "display_data"
    }
   ],
   "source": [
    "predict(\"bull cream\")"
   ]
  },
  {
   "cell_type": "code",
   "execution_count": 38,
   "metadata": {},
   "outputs": [
    {
     "name": "stdout",
     "output_type": "stream",
     "text": [
      "keras red, R,G,B: 147 72 76\n"
     ]
    },
    {
     "data": {
      "image/png": "[encoded data removed]",
      "text/plain": [
       "<matplotlib.figure.Figure at 0x1e8ad0239b0>"
      ]
     },
     "metadata": {},
     "output_type": "display_data"
    }
   ],
   "source": [
    "predict(\"keras red\")"
   ]
  },
  {
   "cell_type": "code",
   "execution_count": 40,
   "metadata": {},
   "outputs": [
    {
     "name": "stdout",
     "output_type": "stream",
     "text": [
      "tensorflow orange, R,G,B: 227 106 51\n"
     ]
    },
    {
     "data": {
      "image/png": "[encoded data removed]",
      "text/plain": [
       "<matplotlib.figure.Figure at 0x1e8ad0d0908>"
      ]
     },
     "metadata": {},
     "output_type": "display_data"
    },
    {
     "name": "stdout",
     "output_type": "stream",
     "text": [
      "forest, R,G,B: 27 80 48\n"
     ]
    },
    {
     "data": {
      "image/png": "[encoded data removed]",
      "text/plain": [
       "<matplotlib.figure.Figure at 0x1e8ad08df98>"
      ]
     },
     "metadata": {},
     "output_type": "display_data"
    },
    {
     "name": "stdout",
     "output_type": "stream",
     "text": [
      "bull cream, R,G,B: 249 243 187\n"
     ]
    },
    {
     "data": {
      "image/png": "[encoded data removed]",
      "text/plain": [
       "<matplotlib.figure.Figure at 0x1e8ad11ceb8>"
      ]
     },
     "metadata": {},
     "output_type": "display_data"
    },
    {
     "name": "stdout",
     "output_type": "stream",
     "text": [
      "keras red, R,G,B: 147 72 76\n"
     ]
    },
    {
     "data": {
      "image/png": "[encoded data removed]",
      "text/plain": [
       "<matplotlib.figure.Figure at 0x1e8ad159f98>"
      ]
     },
     "metadata": {},
     "output_type": "display_data"
    }
   ],
   "source": [
    "predict(\"tensorflow orange\")\n",
    "predict(\"forest\")\n",
    "predict(\"bull cream\")\n",
    "predict(\"keras red\")"
   ]
  },
  {
   "cell_type": "code",
   "execution_count": null,
   "metadata": {},
   "outputs": [],
   "source": []
  }
 ],
 "metadata": {
  "kernelspec": {
   "display_name": "usr",
   "language": "python",
   "name": "python3"
  },
  "language_info": {
   "codemirror_mode": {
    "name": "ipython",
    "version": 3
   },
   "file_extension": ".py",
   "mimetype": "text/x-python",
   "name": "python",
   "nbconvert_exporter": "python",
   "pygments_lexer": "ipython3",
   "version": "3.10.12"
  }
 },
 "nbformat": 4,
 "nbformat_minor": 2
}
